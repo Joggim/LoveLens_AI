{
  "nbformat": 4,
  "nbformat_minor": 0,
  "metadata": {
    "colab": {
      "provenance": []
    },
    "kernelspec": {
      "name": "python3",
      "display_name": "Python 3"
    },
    "language_info": {
      "name": "python"
    }
  },
  "cells": [
    {
      "cell_type": "code",
      "execution_count": null,
      "metadata": {
        "colab": {
          "base_uri": "https://localhost:8080/"
        },
        "id": "pIhGguP2u23O",
        "outputId": "b9e515f1-d057-4b97-80bc-08e42cc4581a"
      },
      "outputs": [
        {
          "output_type": "stream",
          "name": "stdout",
          "text": [
            "Mounted at /content/drive\n"
          ]
        }
      ],
      "source": [
        "from google.colab import drive\n",
        "\n",
        "# Google Drive 마운트\n",
        "drive.mount('/content/drive')\n"
      ]
    },
    {
      "cell_type": "code",
      "source": [
        "import cv2\n",
        "\n",
        "# Haar Cascade 모델 다운로드 및 로드\n",
        "!wget -O haarcascade_frontalface_default.xml https://github.com/opencv/opencv/raw/4.x/data/haarcascades/haarcascade_frontalface_default.xml\n",
        "!wget -O haarcascade_eye.xml https://github.com/opencv/opencv/raw/4.x/data/haarcascades/haarcascade_eye.xml\n",
        "\n",
        "# Haar Cascade 모델 로드\n",
        "face_cascade = cv2.CascadeClassifier('./haarcascade_frontalface_default.xml')\n",
        "eye_cascade = cv2.CascadeClassifier('./haarcascade_eye.xml')\n"
      ],
      "metadata": {
        "colab": {
          "base_uri": "https://localhost:8080/"
        },
        "id": "VqX4Onb6W3pu",
        "outputId": "63cfee23-2e6f-4ddf-a4d0-663a1997e1a9"
      },
      "execution_count": null,
      "outputs": [
        {
          "output_type": "stream",
          "name": "stdout",
          "text": [
            "--2024-12-12 02:00:40--  https://github.com/opencv/opencv/raw/4.x/data/haarcascades/haarcascade_frontalface_default.xml\n",
            "Resolving github.com (github.com)... 140.82.121.4\n",
            "Connecting to github.com (github.com)|140.82.121.4|:443... connected.\n",
            "HTTP request sent, awaiting response... 302 Found\n",
            "Location: https://raw.githubusercontent.com/opencv/opencv/4.x/data/haarcascades/haarcascade_frontalface_default.xml [following]\n",
            "--2024-12-12 02:00:40--  https://raw.githubusercontent.com/opencv/opencv/4.x/data/haarcascades/haarcascade_frontalface_default.xml\n",
            "Resolving raw.githubusercontent.com (raw.githubusercontent.com)... 185.199.108.133, 185.199.109.133, 185.199.110.133, ...\n",
            "Connecting to raw.githubusercontent.com (raw.githubusercontent.com)|185.199.108.133|:443... connected.\n",
            "HTTP request sent, awaiting response... 200 OK\n",
            "Length: 930127 (908K) [text/plain]\n",
            "Saving to: ‘haarcascade_frontalface_default.xml’\n",
            "\n",
            "haarcascade_frontal 100%[===================>] 908.33K  --.-KB/s    in 0.02s   \n",
            "\n",
            "2024-12-12 02:00:40 (39.4 MB/s) - ‘haarcascade_frontalface_default.xml’ saved [930127/930127]\n",
            "\n",
            "--2024-12-12 02:00:40--  https://github.com/opencv/opencv/raw/4.x/data/haarcascades/haarcascade_eye.xml\n",
            "Resolving github.com (github.com)... 140.82.121.3\n",
            "Connecting to github.com (github.com)|140.82.121.3|:443... connected.\n",
            "HTTP request sent, awaiting response... 302 Found\n",
            "Location: https://raw.githubusercontent.com/opencv/opencv/4.x/data/haarcascades/haarcascade_eye.xml [following]\n",
            "--2024-12-12 02:00:40--  https://raw.githubusercontent.com/opencv/opencv/4.x/data/haarcascades/haarcascade_eye.xml\n",
            "Resolving raw.githubusercontent.com (raw.githubusercontent.com)... 185.199.108.133, 185.199.109.133, 185.199.110.133, ...\n",
            "Connecting to raw.githubusercontent.com (raw.githubusercontent.com)|185.199.108.133|:443... connected.\n",
            "HTTP request sent, awaiting response... 200 OK\n",
            "Length: 341406 (333K) [text/plain]\n",
            "Saving to: ‘haarcascade_eye.xml’\n",
            "\n",
            "haarcascade_eye.xml 100%[===================>] 333.40K  --.-KB/s    in 0.02s   \n",
            "\n",
            "2024-12-12 02:00:41 (20.7 MB/s) - ‘haarcascade_eye.xml’ saved [341406/341406]\n",
            "\n"
          ]
        }
      ]
    },
    {
      "cell_type": "code",
      "source": [
        "def extract_eyes(image_path, size=(64, 64)):\n",
        "    img = cv2.imread(image_path)  # 이미지 로드\n",
        "    if img is None:\n",
        "        raise ValueError(f\"이미지를 로드할 수 없습니다: {image_path}\")\n",
        "    gray = cv2.cvtColor(img, cv2.COLOR_BGR2GRAY)  # 그레이스케일 변환\n",
        "\n",
        "    # 얼굴 검출\n",
        "    faces = face_cascade.detectMultiScale(gray, scaleFactor=1.3, minNeighbors=5)\n",
        "    eyes = []\n",
        "\n",
        "    for (x, y, w, h) in faces:\n",
        "        face_roi = gray[y:y+h, x:x+w]  # 얼굴 영역 추출\n",
        "\n",
        "        # 눈 검출\n",
        "        detected_eyes = eye_cascade.detectMultiScale(face_roi)\n",
        "        for (ex, ey, ew, eh) in detected_eyes:\n",
        "            eye_roi = face_roi[ey:ey+eh, ex:ex+ew]  # 눈 영역 추출\n",
        "            eye_resized = cv2.resize(eye_roi, size)  # 크기 조정\n",
        "            eyes.append(eye_resized)\n",
        "\n",
        "    return eyes  # 검출된 눈 목록 반환\n"
      ],
      "metadata": {
        "id": "EUNjG4klXWXp"
      },
      "execution_count": null,
      "outputs": []
    },
    {
      "cell_type": "code",
      "source": [
        "import os\n",
        "import numpy as np\n",
        "\n",
        "def preprocess_images(folder, label, size=(64, 64)):\n",
        "    data = []\n",
        "    labels = []\n",
        "    for file_name in os.listdir(folder):\n",
        "        file_path = os.path.join(folder, file_name)\n",
        "        try:\n",
        "            eyes = extract_eyes(file_path, size)  # 눈 추출\n",
        "            for eye in eyes:\n",
        "                data.append(eye.flatten())  # 플래튼 (1D 배열로 변환)\n",
        "                labels.append(label)  # 라벨 추가\n",
        "        except Exception as e:\n",
        "            print(f\"이미지 처리 실패: {file_name}, 에러: {e}\")\n",
        "    return np.array(data), np.array(labels)\n"
      ],
      "metadata": {
        "id": "98kmaJivXaQR"
      },
      "execution_count": null,
      "outputs": []
    },
    {
      "cell_type": "code",
      "source": [
        "from sklearn.model_selection import train_test_split\n",
        "\n",
        "# Google Drive 데이터 경로\n",
        "base_path = '/content/drive/MyDrive/ColabNotebooks/eye_image'\n",
        "double_folder = os.path.join(base_path, 'double')  # 유쌍 폴더\n",
        "single_folder = os.path.join(base_path, 'single')  # 무쌍 폴더\n",
        "\n",
        "# 유쌍과 무쌍 데이터 전처리\n",
        "double_data, double_labels = preprocess_images(double_folder, label=1)  # 유쌍: 라벨 1\n",
        "single_data, single_labels = preprocess_images(single_folder, label=0)  # 무쌍: 라벨 0\n",
        "\n",
        "# 데이터 병합\n",
        "X = np.concatenate((double_data, single_data), axis=0)\n",
        "y = np.concatenate((double_labels, single_labels), axis=0)\n",
        "print(f\"총 데이터 크기: {X.shape}, 레이블 크기: {y.shape}\")\n",
        "\n",
        "# 데이터셋 분할\n",
        "X_train, X_test, y_train, y_test = train_test_split(X, y, test_size=0.2, random_state=42)\n"
      ],
      "metadata": {
        "colab": {
          "base_uri": "https://localhost:8080/"
        },
        "id": "B0t62JrtXrn6",
        "outputId": "3b10f21a-620d-417f-d590-5ccb42fcc5b4"
      },
      "execution_count": null,
      "outputs": [
        {
          "output_type": "stream",
          "name": "stdout",
          "text": [
            "총 데이터 크기: (55, 4096), 레이블 크기: (55,)\n"
          ]
        }
      ]
    },
    {
      "cell_type": "code",
      "source": [
        "from sklearn.svm import SVC\n",
        "from sklearn.metrics import classification_report, accuracy_score\n",
        "\n",
        "# SVM 모델 학습\n",
        "svm_model = SVC(kernel='linear', C=1.0, random_state=42)\n",
        "svm_model.fit(X_train, y_train)\n",
        "\n",
        "# 예측 및 평가\n",
        "y_pred = svm_model.predict(X_test)\n",
        "print(f\"정확도: {accuracy_score(y_test, y_pred):.2f}\")\n",
        "print(classification_report(y_test, y_pred))\n"
      ],
      "metadata": {
        "colab": {
          "base_uri": "https://localhost:8080/"
        },
        "id": "EdQFLhqCXtfR",
        "outputId": "ea348c5b-d4b9-417d-b6eb-ec4927c0af8b"
      },
      "execution_count": null,
      "outputs": [
        {
          "output_type": "stream",
          "name": "stdout",
          "text": [
            "정확도: 0.55\n",
            "              precision    recall  f1-score   support\n",
            "\n",
            "           0       0.62      0.71      0.67         7\n",
            "           1       0.33      0.25      0.29         4\n",
            "\n",
            "    accuracy                           0.55        11\n",
            "   macro avg       0.48      0.48      0.48        11\n",
            "weighted avg       0.52      0.55      0.53        11\n",
            "\n"
          ]
        }
      ]
    },
    {
      "cell_type": "code",
      "source": [
        "from collections import Counter\n",
        "\n",
        "# 다수결 방식으로 유쌍/무쌍 예측\n",
        "def predict_eye_type_majority(model, image_path, size=(64, 64)):\n",
        "    eyes = extract_eyes(image_path, size)\n",
        "    predictions = []\n",
        "    for eye in eyes:\n",
        "        eye_flat = eye.flatten().reshape(1, -1)  # 1D로 변환 후 reshape\n",
        "        pred = model.predict(eye_flat)\n",
        "        predictions.append(pred[0])  # 0: 무쌍, 1: 유쌍\n",
        "\n",
        "    if predictions:  # 눈이 검출된 경우\n",
        "        counts = Counter(predictions)  # 예측 결과 빈도 계산\n",
        "        majority = counts.most_common(1)[0][0]  # 가장 빈도가 높은 라벨\n",
        "        return \"유쌍\" if majority == 1 else \"무쌍\"\n",
        "    else:  # 눈이 검출되지 않은 경우\n",
        "        return \"눈이 검출되지 않았습니다\"\n",
        "# 테스트 이미지 경로\n",
        "test_image_path = '/content/drive/MyDrive/ColabNotebooks/eye_image/test_image/3.jpg'\n",
        "\n",
        "try:\n",
        "    result_majority = predict_eye_type_majority(svm_model, test_image_path)\n",
        "    print(f\"예측 결과 (다수결): {result_majority}\")\n",
        "except Exception as e:\n",
        "    print(f\"테스트 이미지 처리 실패: {e}\")\n"
      ],
      "metadata": {
        "colab": {
          "base_uri": "https://localhost:8080/"
        },
        "id": "Rjsqypz2ey-v",
        "outputId": "2c23d723-f67b-4745-8f1e-34b0fce34118"
      },
      "execution_count": null,
      "outputs": [
        {
          "output_type": "stream",
          "name": "stdout",
          "text": [
            "예측 결과 (다수결): 무쌍\n"
          ]
        }
      ]
    },
    {
      "cell_type": "code",
      "source": [
        "def predict_eye_type(model, image_path, size=(64, 64)):\n",
        "    eyes = extract_eyes(image_path, size)\n",
        "    predictions = []\n",
        "    for eye in eyes:\n",
        "        eye_flat = eye.flatten().reshape(1, -1)  # 1D로 변환 후 reshape\n",
        "        pred = model.predict(eye_flat)\n",
        "        predictions.append(\"유쌍\" if pred[0] == 1 else \"무쌍\")\n",
        "    return predictions\n",
        "\n",
        "# 테스트 이미지 예측\n",
        "test_image_path = '/content/drive/MyDrive/ColabNotebooks/eye_image/test_image/3.jpg'  # 테스트 이미지 경로\n",
        "try:\n",
        "    results = predict_eye_type(svm_model, test_image_path)\n",
        "    print(f\"예측 결과: {results}\")\n",
        "except Exception as e:\n",
        "    print(f\"테스트 이미지 처리 실패: {e}\")\n"
      ],
      "metadata": {
        "colab": {
          "base_uri": "https://localhost:8080/"
        },
        "id": "LRiT8PH7YzhA",
        "outputId": "ccc8a274-c802-4602-9101-e6729893ea2d"
      },
      "execution_count": null,
      "outputs": [
        {
          "output_type": "stream",
          "name": "stdout",
          "text": [
            "예측 결과: ['무쌍', '무쌍', '유쌍', '무쌍', '유쌍', '유쌍']\n"
          ]
        }
      ]
    }
  ]
}